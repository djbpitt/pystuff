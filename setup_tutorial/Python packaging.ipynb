{
 "cells": [
  {
   "cell_type": "markdown",
   "metadata": {},
   "source": [
    "# Installing your Python package\n",
    "\n",
    "David J. Birnbaum\n",
    "http://www.obdurodon.org, djbpitt@gmail.com\n",
    "\n",
    "We begin this notebook with code that will reset the environment whenever we run all cells from the top. This is housekeeping, and not part of the tutorial."
   ]
  },
  {
   "cell_type": "code",
   "execution_count": 1,
   "metadata": {
    "collapsed": false
   },
   "outputs": [],
   "source": [
    "%load_ext autoreload\n",
    "%autoreload 2"
   ]
  },
  {
   "cell_type": "markdown",
   "metadata": {},
   "source": [
    "## Running a Python script\n",
    "\n",
    "When you develop a Python application you can run it in a few different ways. Assuming you’re at the command line in the directory that contains your `filename.py` program and you want to use Python 3:\n",
    "\n",
    "1. You can run it by invoking the Python interpreter explicitly: `python filename.py`.\n",
    "1. You can make it executable (so that you can run it by just typing the filename, without having to precede it with `python`) by typing `chmod +x filename.py`. Once you’ve done that, you can run it from the command line with `./filename.py`. If you do this, you must begin the file with a shebang:\n",
    "```python\n",
    "#! /usr/bin/env python3\n",
    "```\n",
    "so that the file will use your default Python 3 executable.\n",
    "\n",
    "If you want to be able to run the program from any directory (not just the one in which it resides), you can add the shebang and then move the file into a directory that is specified in your system `path` variable, so that when you specify just the filename (e.g., `filename.py`), the system will find it by looking in all of the directories specified in the path.\n",
    "\n",
    "But what happens when you want to be able to import parts of your Python code into another Python program? For example, suppose you don’t want to run your entire Python program, and you just want to import a function you’ve defined there for use in a different program. Running the program in one of the ways specified above won’t help with the import.\n",
    "\n",
    "## Importing functions from Python modules into Python scripts\n",
    "\n",
    "### Functions available in the standard Python distributions\n",
    "\n",
    "#### Preliminary definitions: script and module\n",
    "\n",
    "A Python **script** is a Python file with a filename that ends in `.py` that you typically run in one of the ways described above. An importable Python **module** is a Python file with a filename that ends in `.py` that contains function definitions, and you typically import those definitions into a script to augment the core functions made available in the standard distribution. You may never run the entire module file, and its only reason for existence may be so that you can import functions defined in it into other programs.\n",
    "\n",
    "#### Functions that are always available\n",
    "\n",
    "The standard distribution comes with some functions that are always available, such as `len()`, which returns the length of an object (e.g., the number of characters in a string or the number of items in a list). Functions that are always available are called *builtins*. Fire up a command-line Python interpreter and try the following:"
   ]
  },
  {
   "cell_type": "code",
   "execution_count": 2,
   "metadata": {
    "collapsed": false
   },
   "outputs": [
    {
     "name": "stdout",
     "output_type": "stream",
     "text": [
      "The length of the string 'koala' is: 5\n",
      "The length of the list ['koala', 'wombat'] is: 2\n"
     ]
    }
   ],
   "source": [
    "print(\"The length of the string 'koala' is:\", len('koala'))\n",
    "print(\"The length of the list ['koala', 'wombat'] is:\", len(['koala', 'wombat']))"
   ]
  },
  {
   "cell_type": "markdown",
   "metadata": {},
   "source": [
    "We don’t have to import the `len()` function; it’s available by default in any Python shell.\n",
    "\n",
    "#### Functions imported from modules that are part of standard Python distributions\n",
    "\n",
    "Other functions have to be imported before they can be used. For example, the functions most commonly used to work with regular expressions are located in a module called `re`, and if you try to use them without first importing the module, they fail. The following attempt to use the `search()` function to check whether the word “hat” contains any lower-case vowel letter will generate an error message (your error message may be different from ours):"
   ]
  },
  {
   "cell_type": "code",
   "execution_count": 9,
   "metadata": {
    "collapsed": false
   },
   "outputs": [
    {
     "ename": "NameError",
     "evalue": "name 'search' is not defined",
     "output_type": "error",
     "traceback": [
      "\u001b[0;31m---------------------------------------------------------------------------\u001b[0m",
      "\u001b[0;31mNameError\u001b[0m                                 Traceback (most recent call last)",
      "\u001b[0;32m<ipython-input-9-7bc1406f0c66>\u001b[0m in \u001b[0;36m<module>\u001b[0;34m()\u001b[0m\n\u001b[0;32m----> 1\u001b[0;31m \u001b[0msearch\u001b[0m\u001b[0;34m(\u001b[0m\u001b[0;34m'[aeiou]'\u001b[0m\u001b[0;34m,\u001b[0m\u001b[0;34m'hat'\u001b[0m\u001b[0;34m)\u001b[0m\u001b[0;34m\u001b[0m\u001b[0m\n\u001b[0m",
      "\u001b[0;31mNameError\u001b[0m: name 'search' is not defined"
     ]
    }
   ],
   "source": [
    "search('[aeiou]','hat')"
   ]
  },
  {
   "cell_type": "markdown",
   "metadata": {},
   "source": [
    "The preceding generates an error message because the `search()` function is not always available, that is, it is not like `len()`. The `search()` function is part of the `re` (“regular expression”) module, so we have to address it as `re.search()`, that is, by prefixing it with the `re.` *namespace* to specify that it is part of the `re` module. But that works only if we’ve loaded the `re` module; unlike with `len()`, which is always available, the functions defined in the `re` module become available only once you’ve loaded that module explicitly.\n",
    "\n",
    "To demonstrate the need for loading the `re` module, in the code below we deliberately unload it (using the `del` instruction) and we then try to use the `search()` function that is part of that module. In real life we would, of course, *load* the `re` module; we *unload* it here only to prove that if it isn’t loaded, it isn’t available. If we don’t have the `re` module loaded and we attempt to use the `search()` function that’s defined inside it, that attempt produces an error:"
   ]
  },
  {
   "cell_type": "code",
   "execution_count": 10,
   "metadata": {
    "collapsed": false
   },
   "outputs": [
    {
     "ename": "NameError",
     "evalue": "name 're' is not defined",
     "output_type": "error",
     "traceback": [
      "\u001b[0;31m---------------------------------------------------------------------------\u001b[0m",
      "\u001b[0;31mNameError\u001b[0m                                 Traceback (most recent call last)",
      "\u001b[0;32m<ipython-input-10-2e1ba9795b6c>\u001b[0m in \u001b[0;36m<module>\u001b[0;34m()\u001b[0m\n\u001b[1;32m      1\u001b[0m \u001b[0;32mdel\u001b[0m \u001b[0mre\u001b[0m\u001b[0;34m\u001b[0m\u001b[0m\n\u001b[0;32m----> 2\u001b[0;31m \u001b[0mre\u001b[0m\u001b[0;34m.\u001b[0m\u001b[0msearch\u001b[0m\u001b[0;34m(\u001b[0m\u001b[0;34m'a'\u001b[0m\u001b[0;34m,\u001b[0m \u001b[0;34m'hat'\u001b[0m\u001b[0;34m)\u001b[0m\u001b[0;34m\u001b[0m\u001b[0m\n\u001b[0m",
      "\u001b[0;31mNameError\u001b[0m: name 're' is not defined"
     ]
    }
   ],
   "source": [
    "del re\n",
    "re.search('a', 'hat')"
   ]
  },
  {
   "cell_type": "markdown",
   "metadata": {},
   "source": [
    "The reason we get an error is that functions within a module (and the module name itself) are not available until we import the module. If we do that, though, the function works:"
   ]
  },
  {
   "cell_type": "code",
   "execution_count": 11,
   "metadata": {
    "collapsed": false
   },
   "outputs": [
    {
     "data": {
      "text/plain": [
       "<_sre.SRE_Match object; span=(1, 2), match='a'>"
      ]
     },
     "execution_count": 11,
     "metadata": {},
     "output_type": "execute_result"
    }
   ],
   "source": [
    "import re\n",
    "re.search('[aeiou]', 'hat')"
   ]
  },
  {
   "cell_type": "markdown",
   "metadata": {},
   "source": [
    "The code above reports that the search operation finds a match.\n",
    "\n",
    "#### Taking stock: *builtins* vs *standard modules*\n",
    "\n",
    "We can use functions like `len()` because they’re always available, and we can use functions like `re.search()` if we first import the `re` module, which is part of the standard Python distributions (modules that are part of the standard distributions are called *standard modules*). But what about functions contributed by the community?\n",
    "\n",
    "#### Functions available in modules installed through PyPI\n",
    "\n",
    "The Python community makes thousands of packages available at the [PyPI](https://pypi.python.org/pypi?%3Aaction=browse), the ‘Python Package Index’. You can install any of these from the command line with the command `pip install packagename`. For example, to install the [CollateX](https://pypi.python.org/pypi/collatex/2.1.0) collation toolkit, type `pip install collatex` at the command line. You can then import from CollateX the same way you import from `re`. Once you’ve installed a PyPI module with `pip`, you can import and use it in the same way as you import and use standard modules. But what about modules you write yourself, or others that are not distributed through PyPI?\n",
    "\n",
    "## User functions\n",
    "\n",
    "Much as we can import functions from modules that are part of the standard Python distributions (like `re`) or that we install from PyPI (like CollateX), we can import functions from modules that we write ourselves. But we can do that only if Python can find those modules. Python finds modules by consulting a search space, which by default is, in order (copied from https://docs.python.org/3/tutorial/modules.html):\n",
    "\n",
    "1. The directory containing the input script (or the current directory when no file is specified).\n",
    "1. PYTHONPATH (a list of directory names, with the same syntax as the shell variable PATH).\n",
    "1. The installation-dependent default.\n",
    "\n",
    "Builtins are always available, and both standard modules and those installed from PyPI with `pip` are placed into a location that is part of PYTHONPATH. We cannot, however, use `pip` to install modules that we write ourself unless we deposit those in PyPI. (There is also a `pip install -e` option for installing from local files, but it has undesirable limitations, about which see https://pip.pypa.io/en/stable/reference/pip_install/#editable-installs.) Modules that we write ourselves can be made available, then, in at least six ways, the fifth and sixth of which are to be preferred for reasons described below: \n",
    "\n",
    "1. Put them in the current directory, that is, the directory where you’re developing the program that is going to use the functions defined in the module.\n",
    "1. Add the directory in which they reside to PYTHONPATH permanently.\n",
    "1. Add the directory in which they reside to PYTHONPATH temporarily.\n",
    "1. Copy or move them manually into a directory included in your PYTHONPATH.\n",
    "1. Contribute them to PyPI and then install them using `pip`.\n",
    "1. Install them automatically into a directory in your PYTHONPATH.\n",
    "\n",
    "The first of these is suitable if you’re going to use the module in only one location, but if you want it to be available in more than one project, you don’t want to have to copy or move or link it to all of them. The second isn’t scalable because your PYTHONPATH will grow out of control over time in you keep adding directories to it. The third isn’t portable; if your script loads a module by first adding its system location to PYTHONPATH, other users may not have put that module into the same location on their systems (especially if they use different operating systems). The fourth is awkward because it’s manual, and if you want to distribute your module, many of your users may not even know that they have a PYTHONPATH, or how to find the directories it includes. The fifth is suitable if your module is mature enough to merit publication and interesting enough to merit distribution, which may not always be the case.\n",
    "\n",
    "The sixth strategy, then, is the only one that is flexible, scalable, portable, and suitable for modules that may not yet be sufficiently mature to merit publication on PyPI. But in order to install a module automatically into a directory in your PYTHONPATH, since you can’t use `pip` to install modules that exist only in your local filespace (and not on PyPI), you need to learn about Python packaging, which is the focus of the rest of this tutorial.\n",
    "\n",
    "(Note: This tutorial relies heavily on information from both the standard Python documentation and http://www.siafoo.net/article/77.)"
   ]
  },
  {
   "cell_type": "markdown",
   "metadata": {
    "collapsed": true
   },
   "source": [
    "## Packaging and installing a module\n",
    "\n",
    "### Sample module: the `lpad()` function\n",
    "\n",
    "Let’s assume that we’ve written a module that includes a function called `lpad()`, which can be used to left-pad a number with zeroes to a particular length. For example, if you pass it a value like `10` and tell it to left-pad it to four places, it should return `0010`. There are lots of ways to do this in Python, but we’re going to spin our own. In real life we’d incorporate robust error trapping (e.g., what if the arguments aren’t numbers? what if the input is longer than the return length after padding?), and we’d make our code more elegant and less clunky, but since the point of this tutorial is packaging and not error handling, we’ll sacrifice robustness and elegance for brevity, directness, and clarity and offer the following, which assumes that both of the arguments to the `lpad()` function are non-negative integers and that the length after padding will be longer than the string length of the input value:"
   ]
  },
  {
   "cell_type": "code",
   "execution_count": 14,
   "metadata": {
    "collapsed": false
   },
   "outputs": [
    {
     "data": {
      "text/plain": [
       "'0010'"
      ]
     },
     "execution_count": 14,
     "metadata": {},
     "output_type": "execute_result"
    }
   ],
   "source": [
    "def lpad(input_value, length):\n",
    "    input_string = str(input_value)\n",
    "    padding = '0' * length\n",
    "    result = padding + input_string\n",
    "    return result[-(len(result) - len(input_string)):]\n",
    "lpad(10,4)  "
   ]
  },
  {
   "cell_type": "markdown",
   "metadata": {},
   "source": [
    "In the example above, the `lpad()` function takes two non-negative integer arguments, called `input_value` and `length`. It converts `input_value` to a string and uses `length` to construct a padding string of “0” values that is longer than needed. It sets `result` equal to the concatenation of those two strings and slices it to keep the number of characters on the right end of the string that is equal to the value of `length`. When we ask this function to left-pad the integer “10” to four places, it returns “0010”.\n",
    "\n",
    "We can use this function without fuss as long as it’s in a file that’s part of the project we’re developing, but suppose we want it to be available in any project we might write, much as `len()` or `re.search()` are. In that case we need to package it and then install it automatically into a directory in our PYTHONPATH. Here’s how to do that."
   ]
  },
  {
   "cell_type": "markdown",
   "metadata": {},
   "source": [
    "### Structuring a package\n",
    "\n",
    "Create a working directory that contains a file called `setup.py` and a directory that will hold the functions you want to make accessible in your module. In this case we’ll call our directory `padding`, under the assumption that eventually it might contain other padding functions. The `padding` directory must contain at least two things: a file called `__init__.py` and a file that contains the functions you want to make available (we’ll call it `arbitrary.py` to emphasize that the filename doesn’t matter). Once these pieces are all in place, you (or others) can change into the directory that holds `setup.py` and run:\n",
    "\n",
    "```python\n",
    "python setup.py install\n",
    "```\n",
    "\n",
    "This will install the functions in a directory in your PYTHONPATH, which will make it possible to import them into any Python program that you create anywhere on your system. We describe how to do that below.\n",
    "\n",
    "### `setup.py`\n",
    "\n",
    "The `setup.py` file looks like the following:\n",
    "\n",
    "```python\n",
    "from distutils.core import setup\n",
    "setup(\n",
    "    name='padding',\n",
    "    packages=['padding'],\n",
    "    description='Padding functions'\n",
    ")\n",
    "```\n",
    "\n",
    "The `name` and `packages` properties are required; `description` is optional, and there are other optional properties (author, URL, license, dependencies, etc.). The value of the `name` argument is arbitrary for our purposes, but if you were to create an *egg* (a way of distributing Python packages), this would be the name it would be given. The `packages` argument is a list of directories relative to the location of the `setup.py` file, and each location must contain an `__init__.py` file and a file with a `.py` extension that contains the functions you want to make available. You can include multiple directories in this list, but in the simplest case, there’s just one.\n",
    "\n",
    "### `__init__.py`\n",
    "\n",
    "Every directory listed in the `packages` property within `setup.py` must contain an `__init__.py` file. The `__init__.py` file for our project looks as follows:\n",
    "\n",
    "```python\n",
    "from padding.arbitrary import lpad\n",
    "__all__ = ['lpad']\n",
    "```\n",
    "\n",
    "The `from` line specifies the directory name followed by the filename that contains the functions, and you can then specify which functions to import. The `__all__` line lists the functions that will be imported if you use syntax like:\n",
    "\n",
    "```python\n",
    "from padding import *\n",
    "```\n",
    "\n",
    "This means that you can include functions in your file that are not exposed on input.\n",
    "\n",
    "Note that endusers never see the name `arbitrary`. They need to know the package name (`padding`) in order to construct the `import` statement and they need to know the function name in order to use the function once they’ve imported the package, but the name of the module that contains the function is private to the setup process.\n",
    "\n",
    "### `arbitrary.py`\n",
    "\n",
    "Our `arbitrary.py` file contains the following:\n",
    "\n",
    "```python\n",
    "def lpad(input_value, length):\n",
    "    input_string = str(input_value)\n",
    "    padding = '0' * length\n",
    "    result = padding + input_string\n",
    "    return result[-(len(result) - len(input_string)):]\n",
    "```\n",
    "\n",
    "In other words, it’s just the function definition. \n",
    "\n",
    "## Putting it all together\n",
    "\n",
    "Once you’ve created the structure outlined above, change into the directory that contains your `setup.py` file and run `python setup.py install`. Then move into a completely different directory (to verify that you aren’t accidentally finding your padding function because it happens to be in the current working directory), fire up a Python console, and try:"
   ]
  },
  {
   "cell_type": "code",
   "execution_count": 7,
   "metadata": {
    "collapsed": false
   },
   "outputs": [
    {
     "data": {
      "text/plain": [
       "'0010'"
      ]
     },
     "execution_count": 7,
     "metadata": {},
     "output_type": "execute_result"
    }
   ],
   "source": [
    "import padding\n",
    "padding.lpad(10,4)"
   ]
  },
  {
   "cell_type": "markdown",
   "metadata": {},
   "source": [
    "Alternatively, you can use:"
   ]
  },
  {
   "cell_type": "code",
   "execution_count": 8,
   "metadata": {
    "collapsed": false
   },
   "outputs": [
    {
     "data": {
      "text/plain": [
       "'0010'"
      ]
     },
     "execution_count": 8,
     "metadata": {},
     "output_type": "execute_result"
    }
   ],
   "source": [
    "from padding import *\n",
    "lpad(10,4)"
   ]
  }
 ],
 "metadata": {
  "anaconda-cloud": {},
  "kernelspec": {
   "display_name": "Python [default]",
   "language": "python",
   "name": "python3"
  },
  "language_info": {
   "codemirror_mode": {
    "name": "ipython",
    "version": 3
   },
   "file_extension": ".py",
   "mimetype": "text/x-python",
   "name": "python",
   "nbconvert_exporter": "python",
   "pygments_lexer": "ipython3",
   "version": "3.5.2"
  }
 },
 "nbformat": 4,
 "nbformat_minor": 1
}
