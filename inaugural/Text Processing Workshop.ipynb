{
 "cells": [
  {
   "cell_type": "markdown",
   "metadata": {},
   "source": [
    "Na-Rae Han (naraehan@pitt.edu), 2/17/2017, [Pitt Library Workshop](http://pitt.libcal.com/event/3040695) \n",
    "Last updated 2017-03-07 by David J. Birnbaum (djbpitt@gmail.com)\n",
    "\n",
    "# Preparation\n",
    "- This tutorial is found on http://www.pitt.edu/~naraehan\n",
    "- Download and unzip the \"C-Span Inaugural Address Corpus\", available on NLTK's corpora page: http://www.nltk.org/nltk_data/\n",
    "- Place the unzipped \"inaugural\" folder **on your DESKTOP** \n",
    "\n",
    "Jupyter tips:\n",
    "- Shift+ENTER to run cell, go to next cell\n",
    "- Alt+ENTER to run cell, create a new cell below\n",
    "\n",
    "More on https://www.cheatography.com/weidadeyue/cheat-sheets/jupyter-notebook/"
   ]
  },
  {
   "cell_type": "markdown",
   "metadata": {},
   "source": [
    "## The very basics\n",
    "### First code\n",
    "* A comment begins with a hash mark (`#`)\n",
    "* A comment can be an entire line, or just the end of a line\n",
    "* To print a string, use the `print()` function.\n",
    "\n",
    "A *function* is an instruction to the computer to do something. It takes input (inside the parentheses) and produces output."
   ]
  },
  {
   "cell_type": "code",
   "execution_count": 55,
   "metadata": {
    "collapsed": false
   },
   "outputs": [
    {
     "name": "stdout",
     "output_type": "stream",
     "text": [
      "Hello, world! My name is Na-Rae\n"
     ]
    }
   ],
   "source": [
    "# This is a comment\n",
    "print(\"Hello, world! My name is Na-Rae\") # This is also a comment"
   ]
  },
  {
   "cell_type": "markdown",
   "metadata": {
    "collapsed": true
   },
   "source": [
    "### The string type\n",
    "* String type objects are enclosed in straight quotation marks (single or double, as long as they match).\n",
    "* `+` is a concatenation operator.\n",
    "* Below, `greet` is a variable name assigned to a string value; note the absence of quotation marks.\n",
    "* You can display the value of a variable in your editor by just typing it on its own line, or you can print it with the `print()` function."
   ]
  },
  {
   "cell_type": "code",
   "execution_count": 56,
   "metadata": {
    "collapsed": false
   },
   "outputs": [
    {
     "data": {
      "text/plain": [
       "'Hello, world! I come in peace.'"
      ]
     },
     "execution_count": 56,
     "metadata": {},
     "output_type": "execute_result"
    }
   ],
   "source": [
    "greet = \"Hello, world!\"\n",
    "greet + \" I come in peace.\""
   ]
  },
  {
   "cell_type": "code",
   "execution_count": 57,
   "metadata": {
    "collapsed": false
   },
   "outputs": [
    {
     "name": "stdout",
     "output_type": "stream",
     "text": [
      "Hello, world! I come in peace.\n"
     ]
    }
   ],
   "source": [
    "greet = \"Hello, world!\"\n",
    "print(greet + \" I come in peace.\")"
   ]
  },
  {
   "cell_type": "markdown",
   "metadata": {},
   "source": [
    "* String methods such as `.upper()`, `.lower()` transform a string.\n",
    "* Functions vs methods\n",
    "    * Functions like `print()` go around their input. Methods like `.upper()` go *after* their input, and may have nothing between the parentheses. \n",
    "    * There is no good reason why some operations are functions and others are methods. You quickly learn which are which."
   ]
  },
  {
   "cell_type": "code",
   "execution_count": 52,
   "metadata": {
    "collapsed": false,
    "scrolled": true
   },
   "outputs": [
    {
     "data": {
      "text/plain": [
       "'HELLO, WORLD!'"
      ]
     },
     "execution_count": 52,
     "metadata": {},
     "output_type": "execute_result"
    }
   ],
   "source": [
    "greet.upper()"
   ]
  },
  {
   "cell_type": "markdown",
   "metadata": {},
   "source": [
    "* The `len()` function returns the length of a string, defined as the number of characters. "
   ]
  },
  {
   "cell_type": "code",
   "execution_count": 8,
   "metadata": {
    "collapsed": false
   },
   "outputs": [
    {
     "data": {
      "text/plain": [
       "13"
      ]
     },
     "execution_count": 8,
     "metadata": {},
     "output_type": "execute_result"
    }
   ],
   "source": [
    "len(greet)"
   ]
  },
  {
   "cell_type": "markdown",
   "metadata": {},
   "source": [
    "* The `in` operator tells you whether a string contains a particular character."
   ]
  },
  {
   "cell_type": "code",
   "execution_count": 58,
   "metadata": {
    "collapsed": false
   },
   "outputs": [
    {
     "data": {
      "text/plain": [
       "True"
      ]
     },
     "execution_count": 58,
     "metadata": {},
     "output_type": "execute_result"
    }
   ],
   "source": [
    "'a' in 'koala'"
   ]
  },
  {
   "cell_type": "code",
   "execution_count": 11,
   "metadata": {
    "collapsed": false
   },
   "outputs": [
    {
     "data": {
      "text/plain": [
       "False"
      ]
     },
     "execution_count": 11,
     "metadata": {},
     "output_type": "execute_result"
    }
   ],
   "source": [
    "'z' in 'koala'"
   ]
  },
  {
   "cell_type": "markdown",
   "metadata": {},
   "source": [
    "Python is case sensitive:"
   ]
  },
  {
   "cell_type": "code",
   "execution_count": 59,
   "metadata": {
    "collapsed": false
   },
   "outputs": [
    {
     "data": {
      "text/plain": [
       "False"
      ]
     },
     "execution_count": 59,
     "metadata": {},
     "output_type": "execute_result"
    }
   ],
   "source": [
    "'A' in 'koala'"
   ]
  },
  {
   "cell_type": "markdown",
   "metadata": {},
   "source": [
    "But you already know how to make it case insensitive:"
   ]
  },
  {
   "cell_type": "code",
   "execution_count": 60,
   "metadata": {
    "collapsed": false
   },
   "outputs": [
    {
     "data": {
      "text/plain": [
       "True"
      ]
     },
     "execution_count": 60,
     "metadata": {},
     "output_type": "execute_result"
    }
   ],
   "source": [
    "'A'.lower() in 'koala'.lower()"
   ]
  },
  {
   "cell_type": "markdown",
   "metadata": {},
   "source": [
    "### Numbers\n",
    "* Integers and floats (numbers with decimal points) are written without quotes. \n",
    "* You can use algebraic operations such as `+`, `-`, `*` and `/` with numbers. "
   ]
  },
  {
   "cell_type": "code",
   "execution_count": 61,
   "metadata": {
    "collapsed": false
   },
   "outputs": [
    {
     "name": "stdout",
     "output_type": "stream",
     "text": [
      "5678 divided by 3.141592 is 1807.3639097629482\n"
     ]
    }
   ],
   "source": [
    "num1 = 5678\n",
    "num2 = 3.141592\n",
    "result = num1 / num2\n",
    "print(num1, \"divided by\", num2, \"is\", result)"
   ]
  },
  {
   "cell_type": "markdown",
   "metadata": {},
   "source": [
    "### Lists\n",
    "* Lists are enclosed in `[ ]`, with elements separated with commas. Lists can contain any data type: strings, numbers, and even other lists. \n",
    "* As with strings, you can use the `len()` function to get the size of a list (number of items). \n",
    "* As with strings, you can use the `in` operator to test whether an item is in a list. \n",
    "* You can negate an `in` test by putting the `not` operator before the `in` operator.\n",
    "* You can combine tests with the `and` and `or` operators."
   ]
  },
  {
   "cell_type": "code",
   "execution_count": 66,
   "metadata": {
    "collapsed": false
   },
   "outputs": [
    {
     "data": {
      "text/plain": [
       "6"
      ]
     },
     "execution_count": 66,
     "metadata": {},
     "output_type": "execute_result"
    }
   ],
   "source": [
    "li = ['red', 'blue', 'green', 'black', 'white', 'pink']\n",
    "len(li)"
   ]
  },
  {
   "cell_type": "code",
   "execution_count": 67,
   "metadata": {
    "collapsed": false
   },
   "outputs": [
    {
     "data": {
      "text/plain": [
       "True"
      ]
     },
     "execution_count": 67,
     "metadata": {},
     "output_type": "execute_result"
    }
   ],
   "source": [
    "'white' in li"
   ]
  },
  {
   "cell_type": "code",
   "execution_count": 68,
   "metadata": {
    "collapsed": false
   },
   "outputs": [
    {
     "data": {
      "text/plain": [
       "True"
      ]
     },
     "execution_count": 68,
     "metadata": {},
     "output_type": "execute_result"
    }
   ],
   "source": [
    "'chartreuse' not in li"
   ]
  },
  {
   "cell_type": "code",
   "execution_count": 69,
   "metadata": {
    "collapsed": false
   },
   "outputs": [
    {
     "data": {
      "text/plain": [
       "True"
      ]
     },
     "execution_count": 69,
     "metadata": {},
     "output_type": "execute_result"
    }
   ],
   "source": [
    "'chartreuse' not in li and 'white' in li"
   ]
  },
  {
   "cell_type": "markdown",
   "metadata": {},
   "source": [
    "### Conditionals (`if` tests)\n",
    "* `if` tests have a colon after the conditional statement\n",
    "* An indented block of lines after the test is executed only if the condition is true\n",
    "* An `else` statement (ending in a colon and followed by an indented block) is optional"
   ]
  },
  {
   "cell_type": "code",
   "execution_count": 71,
   "metadata": {
    "collapsed": false
   },
   "outputs": [
    {
     "name": "stdout",
     "output_type": "stream",
     "text": [
      "There’s a koala in the list of marsupials\n",
      "A platypus is a monotreme, and not a marsupial\n"
     ]
    }
   ],
   "source": [
    "marsupials = ['koala', 'wombat', 'bettong', 'quokka']\n",
    "\n",
    "if 'koala' in marsupials:\n",
    "    print('There’s a koala in the list of marsupials')\n",
    "else:\n",
    "    print('Someone forgot to include the koala in the list of marsupials')\n",
    "\n",
    "if 'platypus' not in marsupials:\n",
    "    print('A platypus is a monotreme, and not a marsupial')\n",
    "else:\n",
    "    print('Someone erroneously included a platypus among the marsupials')"
   ]
  },
  {
   "cell_type": "markdown",
   "metadata": {},
   "source": [
    "### `for` loop\n",
    "* Using a `for` loop, you can loop through a list of items, applying the same set of operations to each element. \n",
    "* Just as with conditionals, the embedded code block is marked with indentation. "
   ]
  },
  {
   "cell_type": "code",
   "execution_count": 72,
   "metadata": {
    "collapsed": false
   },
   "outputs": [
    {
     "name": "stdout",
     "output_type": "stream",
     "text": [
      "red 3\n",
      "red is a color.\n",
      "blue 4\n",
      "blue is a color.\n",
      "green 5\n",
      "green is a color.\n",
      "black 5\n",
      "black is a color.\n",
      "white 5\n",
      "white is a color.\n",
      "pink 4\n",
      "pink is a color.\n",
      "yay, done!\n"
     ]
    }
   ],
   "source": [
    "for x in li:\n",
    "    print(x, len(x))\n",
    "    print(x, \"is a color.\")\n",
    "print(\"yay, done!\")"
   ]
  },
  {
   "cell_type": "markdown",
   "metadata": {},
   "source": [
    "### List comprehension\n",
    "* List comprehension builds a new list from an existing list. \n",
    "* You can filter to include only elements from the input list that meet a certain condition, and you can apply transformations to produce the output.\n",
    "* Try: `.upper()`, `len()`, `+'ish'`"
   ]
  },
  {
   "cell_type": "code",
   "execution_count": 20,
   "metadata": {
    "collapsed": false
   },
   "outputs": [
    {
     "data": {
      "text/plain": [
       "['green', 'black', 'white']"
      ]
     },
     "execution_count": 20,
     "metadata": {},
     "output_type": "execute_result"
    }
   ],
   "source": [
    "[x for x in li if len(x) >= 5]"
   ]
  },
  {
   "cell_type": "code",
   "execution_count": 23,
   "metadata": {
    "collapsed": false
   },
   "outputs": [
    {
     "data": {
      "text/plain": [
       "['REDISH', 'BLUEISH', 'GREENISH', 'BLACKISH', 'WHITEISH', 'PINKISH']"
      ]
     },
     "execution_count": 23,
     "metadata": {},
     "output_type": "execute_result"
    }
   ],
   "source": [
    "[(x+'ish').upper() for x in li]"
   ]
  },
  {
   "cell_type": "code",
   "execution_count": 73,
   "metadata": {
    "collapsed": false
   },
   "outputs": [
    {
     "data": {
      "text/plain": [
       "[3, 4, 5, 5]"
      ]
     },
     "execution_count": 73,
     "metadata": {},
     "output_type": "execute_result"
    }
   ],
   "source": [
    "[len(x) for x in li if 'e' in x]"
   ]
  },
  {
   "cell_type": "markdown",
   "metadata": {},
   "source": [
    "### Dictionaries\n",
    "- Dictionaries hold key:value mappings. \n",
    "- Get the dictionary value of a particular key by putting the key in square brackets after the dictionary name.\n",
    "- `len()` on a dictionary returns the number of keys. "
   ]
  },
  {
   "cell_type": "code",
   "execution_count": 85,
   "metadata": {
    "collapsed": false
   },
   "outputs": [
    {
     "data": {
      "text/plain": [
       "10"
      ]
     },
     "execution_count": 85,
     "metadata": {},
     "output_type": "execute_result"
    }
   ],
   "source": [
    "di = {'Homer':35, 'Marge':35, 'Bart':10, 'Lisa':8}\n",
    "di['Bart']"
   ]
  },
  {
   "cell_type": "code",
   "execution_count": 86,
   "metadata": {
    "collapsed": false
   },
   "outputs": [
    {
     "data": {
      "text/plain": [
       "4"
      ]
     },
     "execution_count": 86,
     "metadata": {},
     "output_type": "execute_result"
    }
   ],
   "source": [
    "len(di)"
   ]
  },
  {
   "cell_type": "markdown",
   "metadata": {},
   "source": [
    "## Using NLTK (Natural language toolkit)\n",
    "* NLTK is an external module; you can start using it after importing it. \n",
    "* `nltk.word_tokenize()` is a handy tokenizing function out of the many that NLTK provides.\n",
    "* It turns a text (a single string) into a list of words ... but note what NLTK considers a word! "
   ]
  },
  {
   "cell_type": "code",
   "execution_count": 87,
   "metadata": {
    "collapsed": true
   },
   "outputs": [],
   "source": [
    "import nltk"
   ]
  },
  {
   "cell_type": "code",
   "execution_count": 88,
   "metadata": {
    "collapsed": false
   },
   "outputs": [
    {
     "data": {
      "text/plain": [
       "['Hello', ',', 'world', '!']"
      ]
     },
     "execution_count": 88,
     "metadata": {},
     "output_type": "execute_result"
    }
   ],
   "source": [
    "nltk.word_tokenize(greet)"
   ]
  },
  {
   "cell_type": "markdown",
   "metadata": {},
   "source": [
    "* Get information about a function by using the `help()` function:"
   ]
  },
  {
   "cell_type": "code",
   "execution_count": 89,
   "metadata": {
    "collapsed": false
   },
   "outputs": [
    {
     "name": "stdout",
     "output_type": "stream",
     "text": [
      "Help on function word_tokenize in module nltk.tokenize:\n",
      "\n",
      "word_tokenize(text, language='english')\n",
      "    Return a tokenized copy of *text*,\n",
      "    using NLTK's recommended word tokenizer\n",
      "    (currently :class:`.TreebankWordTokenizer`\n",
      "    along with :class:`.PunktSentenceTokenizer`\n",
      "    for the specified language).\n",
      "    \n",
      "    :param text: text to split into sentences\n",
      "    :param language: the model name in the Punkt corpus\n",
      "\n"
     ]
    }
   ],
   "source": [
    "help(nltk.word_tokenize)"
   ]
  },
  {
   "cell_type": "code",
   "execution_count": 90,
   "metadata": {
    "collapsed": false
   },
   "outputs": [
    {
     "data": {
      "text/plain": [
       "['You', 'have', \"n't\", 'seen', 'Star', 'Wars', '...', '?']"
      ]
     },
     "execution_count": 90,
     "metadata": {},
     "output_type": "execute_result"
    }
   ],
   "source": [
    "sent = \"You haven't seen Star Wars...?\"\n",
    "nltk.word_tokenize(sent)"
   ]
  },
  {
   "cell_type": "markdown",
   "metadata": {},
   "source": [
    "* `nltk.FreqDist()` takes a list as input and outputs a frequency dictionary, where the keys are the words in the list and the values are the frequencies.\n",
    "* You can get the n most frequent words in a frequency dictionary with the `.most_common(n)` method.\n",
    "* You can get the frequency of a particular work"
   ]
  },
  {
   "cell_type": "code",
   "execution_count": 91,
   "metadata": {
    "collapsed": false
   },
   "outputs": [
    {
     "name": "stdout",
     "output_type": "stream",
     "text": [
      "['ROSE', 'IS', 'A', 'ROSE', 'IS', 'A', 'ROSE', 'IS', 'A', 'ROSE', '.']\n"
     ]
    }
   ],
   "source": [
    "sent = 'Rose is a rose is a rose is a rose.'\n",
    "toks = nltk.word_tokenize(sent.upper())\n",
    "print(toks)"
   ]
  },
  {
   "cell_type": "code",
   "execution_count": 92,
   "metadata": {
    "collapsed": false
   },
   "outputs": [
    {
     "data": {
      "text/plain": [
       "FreqDist({'.': 1, 'A': 3, 'IS': 3, 'ROSE': 4})"
      ]
     },
     "execution_count": 92,
     "metadata": {},
     "output_type": "execute_result"
    }
   ],
   "source": [
    "freq = nltk.FreqDist(toks)\n",
    "freq"
   ]
  },
  {
   "cell_type": "code",
   "execution_count": 93,
   "metadata": {
    "collapsed": false
   },
   "outputs": [
    {
     "data": {
      "text/plain": [
       "[('ROSE', 4), ('IS', 3), ('A', 3)]"
      ]
     },
     "execution_count": 93,
     "metadata": {},
     "output_type": "execute_result"
    }
   ],
   "source": [
    "freq.most_common(3)"
   ]
  },
  {
   "cell_type": "code",
   "execution_count": 94,
   "metadata": {
    "collapsed": false
   },
   "outputs": [
    {
     "data": {
      "text/plain": [
       "1"
      ]
     },
     "execution_count": 94,
     "metadata": {},
     "output_type": "execute_result"
    }
   ],
   "source": [
    "freq['.']"
   ]
  },
  {
   "cell_type": "code",
   "execution_count": 95,
   "metadata": {
    "collapsed": false
   },
   "outputs": [
    {
     "data": {
      "text/plain": [
       "4"
      ]
     },
     "execution_count": 95,
     "metadata": {},
     "output_type": "execute_result"
    }
   ],
   "source": [
    "len(freq)"
   ]
  },
  {
   "cell_type": "markdown",
   "metadata": {},
   "source": [
    "## Reading in a text file\n",
    "* `open(filename).read()` reads in the content of a text file as a single string. "
   ]
  },
  {
   "cell_type": "code",
   "execution_count": 97,
   "metadata": {
    "collapsed": false
   },
   "outputs": [
    {
     "name": "stdout",
     "output_type": "stream",
     "text": [
      "Fellow-Citizens of the Senate and of the House of Representatives:\n",
      "\n",
      "Among the vicissitudes incident to life no event could have filled me with greater anxieties than that of which the notification was transmitted by your order, and received on the 14th day of the present month. On the one hand, I was summoned by my Country, whose voice I can never hear but with veneration and love, from a retreat which I had chosen with the fondest predilection, and, in my flattering hopes, with an immutable decision, as the asylum of my declining years -- a retreat which was rendered every day more necessary as well as more dear to me by the addition of habit to inclination, and of frequent interruptions in my health to the gradual waste committed on it by time. On the other hand, the magnitude and difficulty of the trust to which the voice of my country called me, being sufficient to awaken in the wisest and most experienced of her citizens a distrustful scrutiny into his qualifications, could not but overwhelm with despondence one who (inheriting inferior endowments from nature and unpracticed in the duties of civil administration) ought to be peculiarly conscious of his own deficiencies. In this conflict of emotions all I dare aver is that it has been my faithful study to collect my duty from a just appreciation of every circumstance by which it might be affected. All I dare hope is that if, in executing this task, I have been too much swayed by a grateful remembrance of former instances, or by an affectionate sensibility to this transcendent proof of the confidence of my fellow citizens, and have thence too little consulted my incapacity as well as disinclination for the weighty and untried cares before me, my error will be palliated by the motives which mislead me, and its consequences be judged by my country with some share of the partiality in which they originated.\n",
      "\n",
      "Such being the impressions under which I have, in obedience to the public summons, repaired to the present station, it would be peculiarly improper to omit in this first official act my fervent supplications to that Almighty Being who rules over the universe, who presides in the councils of nations, and whose providential aids can supply every human defect, that His benediction may consecrate to the liberties and happiness of the people of the United States a Government instituted by themselves for these essential purposes, and may enable every instrument employed in its administration to execute with success the functions allotted to his charge. In tendering this homage to the Great Author of every public and private good, I assure myself that it expresses your sentiments not less than my own, nor those of my fellow citizens at large less than either. No people can be bound to acknowledge and adore the Invisible Hand which conducts the affairs of men more than those of the United States. Every step by which they have advanced to the character of an independent nation seems to have been distinguished by some token of providential agency; and in the important revolution just accomplished in the system of their united government the tranquil deliberations and voluntary consent of so many distinct communities from which the event has resulted can not be compared with the means by which most governments have been established without some return of pious gratitude, along with an humble anticipation of the future blessings which the past seem to presage. These reflections, arising out of the present crisis, have forced themselves too strongly on my mind to be suppressed. You will join with me, I trust, in thinking that there are none under the influence of which the proceedings of a new and free government can more auspiciously commence.\n",
      "\n",
      "By the article establishing the executive department it is made the duty of the President \"to recommend to your consideration such measures as he shall judge necessary and expedient.\" The circumstances under which I now meet you will acquit me from entering into that subject further than to refer to the great constitutional charter under which you are assembled, and which, in defining your powers, designates the objects to which your attention is to be given. It will be more consistent with those circumstances, and far more congenial with the feelings which actuate me, to substitute, in place of a recommendation of particular measures, the tribute that is due to the talents, the rectitude, and the patriotism which adorn the characters selected to devise and adopt them. In these honorable qualifications I behold the surest pledges that as on one side no local prejudices or attachments, no separate views nor party animosities, will misdirect the comprehensive and equal eye which ought to watch over this great assemblage of communities and interests, so, on another, that the foundation of our national policy will be laid in the pure and immutable principles of private morality, and the preeminence of free government be exemplified by all the attributes which can win the affections of its citizens and command the respect of the world. I dwell on this prospect with every satisfaction which an ardent love for my country can inspire, since there is no truth more thoroughly established than that there exists in the economy and course of nature an indissoluble union between virtue and happiness; between duty and advantage; between the genuine maxims of an honest and magnanimous policy and the solid rewards of public prosperity and felicity; since we ought to be no less persuaded that the propitious smiles of Heaven can never be expected on a nation that disregards the eternal rules of order and right which Heaven itself has ordained; and since the preservation of the sacred fire of liberty and the destiny of the republican model of government are justly considered, perhaps, as deeply, as finally, staked on the experiment entrusted to the hands of the American people.\n",
      "\n",
      "Besides the ordinary objects submitted to your care, it will remain with your judgment to decide how far an exercise of the occasional power delegated by the fifth article of the Constitution is rendered expedient at the present juncture by the nature of objections which have been urged against the system, or by the degree of inquietude which has given birth to them. Instead of undertaking particular recommendations on this subject, in which I could be guided by no lights derived from official opportunities, I shall again give way to my entire confidence in your discernment and pursuit of the public good; for I assure myself that whilst you carefully avoid every alteration which might endanger the benefits of an united and effective government, or which ought to await the future lessons of experience, a reverence for the characteristic rights of freemen and a regard for the public harmony will sufficiently influence your deliberations on the question how far the former can be impregnably fortified or the latter be safely and advantageously promoted.\n",
      "\n",
      "To the foregoing observations I have one to add, which will be most properly addressed to the House of Representatives. It concerns myself, and will therefore be as brief as possible. When I was first honored with a call into the service of my country, then on the eve of an arduous struggle for its liberties, the light in which I contemplated my duty required that I should renounce every pecuniary compensation. From this resolution I have in no instance departed; and being still under the impressions which produced it, I must decline as inapplicable to myself any share in the personal emoluments which may be indispensably included in a permanent provision for the executive department, and must accordingly pray that the pecuniary estimates for the station in which I am placed may during my continuance in it be limited to such actual expenditures as the public good may be thought to require.\n",
      "\n",
      "Having thus imparted to you my sentiments as they have been awakened by the occasion which brings us together, I shall take my present leave; but not without resorting once more to the benign Parent of the Human Race in humble supplication that, since He has been pleased to favor the American people with opportunities for deliberating in perfect tranquillity, and dispositions for deciding with unparalleled unanimity on a form of government for the security of their union and the advancement of their happiness, so His divine blessing may be equally conspicuous in the enlarged views, the temperate consultations, and the wise measures on which the success of this Government must depend. \n",
      "\n"
     ]
    }
   ],
   "source": [
    "# Change the bit after “Users/” to your own userid\n",
    "# Comment out one of the following lines and uncomment the other, depending on whether you’re using Windows or a Mac\n",
    "\n",
    "# myfile = 'C:/Users/djb/Desktop/inaugural/1789-Washington.txt'  # Windows users need C:\n",
    "myfile = '/Users/djb/Desktop/inaugural/1789-Washington.txt'  # Mac users must leave out C:\n",
    "wtxt = open(myfile).read()\n",
    "print(wtxt)"
   ]
  },
  {
   "cell_type": "code",
   "execution_count": 98,
   "metadata": {
    "collapsed": false
   },
   "outputs": [
    {
     "data": {
      "text/plain": [
       "8619"
      ]
     },
     "execution_count": 98,
     "metadata": {},
     "output_type": "execute_result"
    }
   ],
   "source": [
    "len(wtxt)     # Number of characters in text"
   ]
  },
  {
   "cell_type": "code",
   "execution_count": 99,
   "metadata": {
    "collapsed": false
   },
   "outputs": [
    {
     "data": {
      "text/plain": [
       "False"
      ]
     },
     "execution_count": 99,
     "metadata": {},
     "output_type": "execute_result"
    }
   ],
   "source": [
    "'Americans' in wtxt"
   ]
  },
  {
   "cell_type": "markdown",
   "metadata": {},
   "source": [
    "## Tokenize text, compile frequency count"
   ]
  },
  {
   "cell_type": "code",
   "execution_count": 100,
   "metadata": {
    "collapsed": false
   },
   "outputs": [
    {
     "data": {
      "text/plain": [
       "['Fellow-Citizens',\n",
       " 'of',\n",
       " 'the',\n",
       " 'Senate',\n",
       " 'and',\n",
       " 'of',\n",
       " 'the',\n",
       " 'House',\n",
       " 'of',\n",
       " 'Representatives',\n",
       " ':',\n",
       " 'Among',\n",
       " 'the',\n",
       " 'vicissitudes',\n",
       " 'incident',\n",
       " 'to',\n",
       " 'life',\n",
       " 'no',\n",
       " 'event',\n",
       " 'could',\n",
       " 'have',\n",
       " 'filled',\n",
       " 'me',\n",
       " 'with',\n",
       " 'greater',\n",
       " 'anxieties',\n",
       " 'than',\n",
       " 'that',\n",
       " 'of',\n",
       " 'which',\n",
       " 'the',\n",
       " 'notification',\n",
       " 'was',\n",
       " 'transmitted',\n",
       " 'by',\n",
       " 'your',\n",
       " 'order',\n",
       " ',',\n",
       " 'and',\n",
       " 'received',\n",
       " 'on',\n",
       " 'the',\n",
       " '14th',\n",
       " 'day',\n",
       " 'of',\n",
       " 'the',\n",
       " 'present',\n",
       " 'month',\n",
       " '.',\n",
       " 'On',\n",
       " 'the',\n",
       " 'one',\n",
       " 'hand',\n",
       " ',',\n",
       " 'I',\n",
       " 'was',\n",
       " 'summoned',\n",
       " 'by',\n",
       " 'my',\n",
       " 'Country',\n",
       " ',',\n",
       " 'whose',\n",
       " 'voice',\n",
       " 'I',\n",
       " 'can',\n",
       " 'never',\n",
       " 'hear',\n",
       " 'but',\n",
       " 'with',\n",
       " 'veneration',\n",
       " 'and',\n",
       " 'love',\n",
       " ',',\n",
       " 'from',\n",
       " 'a',\n",
       " 'retreat',\n",
       " 'which',\n",
       " 'I',\n",
       " 'had',\n",
       " 'chosen',\n",
       " 'with',\n",
       " 'the',\n",
       " 'fondest',\n",
       " 'predilection',\n",
       " ',',\n",
       " 'and',\n",
       " ',',\n",
       " 'in',\n",
       " 'my',\n",
       " 'flattering',\n",
       " 'hopes',\n",
       " ',',\n",
       " 'with',\n",
       " 'an',\n",
       " 'immutable',\n",
       " 'decision',\n",
       " ',',\n",
       " 'as',\n",
       " 'the',\n",
       " 'asylum',\n",
       " 'of',\n",
       " 'my',\n",
       " 'declining',\n",
       " 'years',\n",
       " '--',\n",
       " 'a',\n",
       " 'retreat',\n",
       " 'which',\n",
       " 'was',\n",
       " 'rendered',\n",
       " 'every',\n",
       " 'day',\n",
       " 'more',\n",
       " 'necessary',\n",
       " 'as',\n",
       " 'well',\n",
       " 'as',\n",
       " 'more',\n",
       " 'dear',\n",
       " 'to',\n",
       " 'me',\n",
       " 'by',\n",
       " 'the',\n",
       " 'addition',\n",
       " 'of',\n",
       " 'habit',\n",
       " 'to',\n",
       " 'inclination',\n",
       " ',',\n",
       " 'and',\n",
       " 'of',\n",
       " 'frequent',\n",
       " 'interruptions',\n",
       " 'in',\n",
       " 'my',\n",
       " 'health',\n",
       " 'to',\n",
       " 'the',\n",
       " 'gradual',\n",
       " 'waste',\n",
       " 'committed',\n",
       " 'on',\n",
       " 'it',\n",
       " 'by',\n",
       " 'time',\n",
       " '.',\n",
       " 'On',\n",
       " 'the',\n",
       " 'other',\n",
       " 'hand',\n",
       " ',',\n",
       " 'the',\n",
       " 'magnitude',\n",
       " 'and',\n",
       " 'difficulty',\n",
       " 'of',\n",
       " 'the',\n",
       " 'trust',\n",
       " 'to',\n",
       " 'which',\n",
       " 'the',\n",
       " 'voice',\n",
       " 'of',\n",
       " 'my',\n",
       " 'country',\n",
       " 'called',\n",
       " 'me',\n",
       " ',',\n",
       " 'being',\n",
       " 'sufficient',\n",
       " 'to',\n",
       " 'awaken',\n",
       " 'in',\n",
       " 'the',\n",
       " 'wisest',\n",
       " 'and',\n",
       " 'most',\n",
       " 'experienced',\n",
       " 'of',\n",
       " 'her',\n",
       " 'citizens',\n",
       " 'a',\n",
       " 'distrustful',\n",
       " 'scrutiny',\n",
       " 'into',\n",
       " 'his',\n",
       " 'qualifications',\n",
       " ',',\n",
       " 'could',\n",
       " 'not',\n",
       " 'but',\n",
       " 'overwhelm',\n",
       " 'with',\n",
       " 'despondence',\n",
       " 'one',\n",
       " 'who',\n",
       " '(',\n",
       " 'inheriting',\n",
       " 'inferior',\n",
       " 'endowments',\n",
       " 'from',\n",
       " 'nature',\n",
       " 'and',\n",
       " 'unpracticed',\n",
       " 'in',\n",
       " 'the',\n",
       " 'duties',\n",
       " 'of',\n",
       " 'civil',\n",
       " 'administration',\n",
       " ')',\n",
       " 'ought',\n",
       " 'to',\n",
       " 'be',\n",
       " 'peculiarly',\n",
       " 'conscious',\n",
       " 'of',\n",
       " 'his',\n",
       " 'own',\n",
       " 'deficiencies',\n",
       " '.',\n",
       " 'In',\n",
       " 'this',\n",
       " 'conflict',\n",
       " 'of',\n",
       " 'emotions',\n",
       " 'all',\n",
       " 'I',\n",
       " 'dare',\n",
       " 'aver',\n",
       " 'is',\n",
       " 'that',\n",
       " 'it',\n",
       " 'has',\n",
       " 'been',\n",
       " 'my',\n",
       " 'faithful',\n",
       " 'study',\n",
       " 'to',\n",
       " 'collect',\n",
       " 'my',\n",
       " 'duty',\n",
       " 'from',\n",
       " 'a',\n",
       " 'just',\n",
       " 'appreciation',\n",
       " 'of',\n",
       " 'every',\n",
       " 'circumstance',\n",
       " 'by',\n",
       " 'which',\n",
       " 'it',\n",
       " 'might',\n",
       " 'be',\n",
       " 'affected',\n",
       " '.',\n",
       " 'All',\n",
       " 'I',\n",
       " 'dare',\n",
       " 'hope',\n",
       " 'is',\n",
       " 'that',\n",
       " 'if',\n",
       " ',',\n",
       " 'in',\n",
       " 'executing',\n",
       " 'this',\n",
       " 'task',\n",
       " ',',\n",
       " 'I',\n",
       " 'have',\n",
       " 'been',\n",
       " 'too',\n",
       " 'much',\n",
       " 'swayed',\n",
       " 'by',\n",
       " 'a',\n",
       " 'grateful',\n",
       " 'remembrance',\n",
       " 'of',\n",
       " 'former',\n",
       " 'instances',\n",
       " ',',\n",
       " 'or',\n",
       " 'by',\n",
       " 'an',\n",
       " 'affectionate',\n",
       " 'sensibility',\n",
       " 'to',\n",
       " 'this',\n",
       " 'transcendent',\n",
       " 'proof',\n",
       " 'of',\n",
       " 'the',\n",
       " 'confidence',\n",
       " 'of',\n",
       " 'my',\n",
       " 'fellow',\n",
       " 'citizens',\n",
       " ',',\n",
       " 'and',\n",
       " 'have',\n",
       " 'thence',\n",
       " 'too',\n",
       " 'little',\n",
       " 'consulted',\n",
       " 'my',\n",
       " 'incapacity',\n",
       " 'as',\n",
       " 'well',\n",
       " 'as',\n",
       " 'disinclination',\n",
       " 'for',\n",
       " 'the',\n",
       " 'weighty',\n",
       " 'and',\n",
       " 'untried',\n",
       " 'cares',\n",
       " 'before',\n",
       " 'me',\n",
       " ',',\n",
       " 'my',\n",
       " 'error',\n",
       " 'will',\n",
       " 'be',\n",
       " 'palliated',\n",
       " 'by',\n",
       " 'the',\n",
       " 'motives',\n",
       " 'which',\n",
       " 'mislead',\n",
       " 'me',\n",
       " ',',\n",
       " 'and',\n",
       " 'its',\n",
       " 'consequences',\n",
       " 'be',\n",
       " 'judged',\n",
       " 'by',\n",
       " 'my',\n",
       " 'country',\n",
       " 'with',\n",
       " 'some',\n",
       " 'share',\n",
       " 'of',\n",
       " 'the',\n",
       " 'partiality',\n",
       " 'in',\n",
       " 'which',\n",
       " 'they',\n",
       " 'originated',\n",
       " '.',\n",
       " 'Such',\n",
       " 'being',\n",
       " 'the',\n",
       " 'impressions',\n",
       " 'under',\n",
       " 'which',\n",
       " 'I',\n",
       " 'have',\n",
       " ',',\n",
       " 'in',\n",
       " 'obedience',\n",
       " 'to',\n",
       " 'the',\n",
       " 'public',\n",
       " 'summons',\n",
       " ',',\n",
       " 'repaired',\n",
       " 'to',\n",
       " 'the',\n",
       " 'present',\n",
       " 'station',\n",
       " ',',\n",
       " 'it',\n",
       " 'would',\n",
       " 'be',\n",
       " 'peculiarly',\n",
       " 'improper',\n",
       " 'to',\n",
       " 'omit',\n",
       " 'in',\n",
       " 'this',\n",
       " 'first',\n",
       " 'official',\n",
       " 'act',\n",
       " 'my',\n",
       " 'fervent',\n",
       " 'supplications',\n",
       " 'to',\n",
       " 'that',\n",
       " 'Almighty',\n",
       " 'Being',\n",
       " 'who',\n",
       " 'rules',\n",
       " 'over',\n",
       " 'the',\n",
       " 'universe',\n",
       " ',',\n",
       " 'who',\n",
       " 'presides',\n",
       " 'in',\n",
       " 'the',\n",
       " 'councils',\n",
       " 'of',\n",
       " 'nations',\n",
       " ',',\n",
       " 'and',\n",
       " 'whose',\n",
       " 'providential',\n",
       " 'aids',\n",
       " 'can',\n",
       " 'supply',\n",
       " 'every',\n",
       " 'human',\n",
       " 'defect',\n",
       " ',',\n",
       " 'that',\n",
       " 'His',\n",
       " 'benediction',\n",
       " 'may',\n",
       " 'consecrate',\n",
       " 'to',\n",
       " 'the',\n",
       " 'liberties',\n",
       " 'and',\n",
       " 'happiness',\n",
       " 'of',\n",
       " 'the',\n",
       " 'people',\n",
       " 'of',\n",
       " 'the',\n",
       " 'United',\n",
       " 'States',\n",
       " 'a',\n",
       " 'Government',\n",
       " 'instituted',\n",
       " 'by',\n",
       " 'themselves',\n",
       " 'for',\n",
       " 'these',\n",
       " 'essential',\n",
       " 'purposes',\n",
       " ',',\n",
       " 'and',\n",
       " 'may',\n",
       " 'enable',\n",
       " 'every',\n",
       " 'instrument',\n",
       " 'employed',\n",
       " 'in',\n",
       " 'its',\n",
       " 'administration',\n",
       " 'to',\n",
       " 'execute',\n",
       " 'with',\n",
       " 'success',\n",
       " 'the',\n",
       " 'functions',\n",
       " 'allotted',\n",
       " 'to',\n",
       " 'his',\n",
       " 'charge',\n",
       " '.',\n",
       " 'In',\n",
       " 'tendering',\n",
       " 'this',\n",
       " 'homage',\n",
       " 'to',\n",
       " 'the',\n",
       " 'Great',\n",
       " 'Author',\n",
       " 'of',\n",
       " 'every',\n",
       " 'public',\n",
       " 'and',\n",
       " 'private',\n",
       " 'good',\n",
       " ',',\n",
       " 'I',\n",
       " 'assure',\n",
       " 'myself',\n",
       " 'that',\n",
       " 'it',\n",
       " 'expresses',\n",
       " 'your',\n",
       " 'sentiments',\n",
       " 'not',\n",
       " 'less',\n",
       " 'than',\n",
       " 'my',\n",
       " 'own',\n",
       " ',',\n",
       " 'nor',\n",
       " 'those',\n",
       " 'of',\n",
       " 'my',\n",
       " 'fellow',\n",
       " 'citizens',\n",
       " 'at',\n",
       " 'large',\n",
       " 'less',\n",
       " 'than',\n",
       " 'either',\n",
       " '.',\n",
       " 'No',\n",
       " 'people',\n",
       " 'can',\n",
       " 'be',\n",
       " 'bound',\n",
       " 'to',\n",
       " 'acknowledge',\n",
       " 'and',\n",
       " 'adore',\n",
       " 'the',\n",
       " 'Invisible',\n",
       " 'Hand',\n",
       " 'which',\n",
       " 'conducts',\n",
       " 'the',\n",
       " 'affairs',\n",
       " 'of',\n",
       " 'men',\n",
       " 'more',\n",
       " 'than',\n",
       " 'those',\n",
       " 'of',\n",
       " 'the',\n",
       " 'United',\n",
       " 'States',\n",
       " '.',\n",
       " 'Every',\n",
       " 'step',\n",
       " 'by',\n",
       " 'which',\n",
       " 'they',\n",
       " 'have',\n",
       " 'advanced',\n",
       " 'to',\n",
       " 'the',\n",
       " 'character',\n",
       " 'of',\n",
       " 'an',\n",
       " 'independent',\n",
       " 'nation',\n",
       " 'seems',\n",
       " 'to',\n",
       " 'have',\n",
       " 'been',\n",
       " 'distinguished',\n",
       " 'by',\n",
       " 'some',\n",
       " 'token',\n",
       " 'of',\n",
       " 'providential',\n",
       " 'agency',\n",
       " ';',\n",
       " 'and',\n",
       " 'in',\n",
       " 'the',\n",
       " 'important',\n",
       " 'revolution',\n",
       " 'just',\n",
       " 'accomplished',\n",
       " 'in',\n",
       " 'the',\n",
       " 'system',\n",
       " 'of',\n",
       " 'their',\n",
       " 'united',\n",
       " 'government',\n",
       " 'the',\n",
       " 'tranquil',\n",
       " 'deliberations',\n",
       " 'and',\n",
       " 'voluntary',\n",
       " 'consent',\n",
       " 'of',\n",
       " 'so',\n",
       " 'many',\n",
       " 'distinct',\n",
       " 'communities',\n",
       " 'from',\n",
       " 'which',\n",
       " 'the',\n",
       " 'event',\n",
       " 'has',\n",
       " 'resulted',\n",
       " 'can',\n",
       " 'not',\n",
       " 'be',\n",
       " 'compared',\n",
       " 'with',\n",
       " 'the',\n",
       " 'means',\n",
       " 'by',\n",
       " 'which',\n",
       " 'most',\n",
       " 'governments',\n",
       " 'have',\n",
       " 'been',\n",
       " 'established',\n",
       " 'without',\n",
       " 'some',\n",
       " 'return',\n",
       " 'of',\n",
       " 'pious',\n",
       " 'gratitude',\n",
       " ',',\n",
       " 'along',\n",
       " 'with',\n",
       " 'an',\n",
       " 'humble',\n",
       " 'anticipation',\n",
       " 'of',\n",
       " 'the',\n",
       " 'future',\n",
       " 'blessings',\n",
       " 'which',\n",
       " 'the',\n",
       " 'past',\n",
       " 'seem',\n",
       " 'to',\n",
       " 'presage',\n",
       " '.',\n",
       " 'These',\n",
       " 'reflections',\n",
       " ',',\n",
       " 'arising',\n",
       " 'out',\n",
       " 'of',\n",
       " 'the',\n",
       " 'present',\n",
       " 'crisis',\n",
       " ',',\n",
       " 'have',\n",
       " 'forced',\n",
       " 'themselves',\n",
       " 'too',\n",
       " 'strongly',\n",
       " 'on',\n",
       " 'my',\n",
       " 'mind',\n",
       " 'to',\n",
       " 'be',\n",
       " 'suppressed',\n",
       " '.',\n",
       " 'You',\n",
       " 'will',\n",
       " 'join',\n",
       " 'with',\n",
       " 'me',\n",
       " ',',\n",
       " 'I',\n",
       " 'trust',\n",
       " ',',\n",
       " 'in',\n",
       " 'thinking',\n",
       " 'that',\n",
       " 'there',\n",
       " 'are',\n",
       " 'none',\n",
       " 'under',\n",
       " 'the',\n",
       " 'influence',\n",
       " 'of',\n",
       " 'which',\n",
       " 'the',\n",
       " 'proceedings',\n",
       " 'of',\n",
       " 'a',\n",
       " 'new',\n",
       " 'and',\n",
       " 'free',\n",
       " 'government',\n",
       " 'can',\n",
       " 'more',\n",
       " 'auspiciously',\n",
       " 'commence',\n",
       " '.',\n",
       " 'By',\n",
       " 'the',\n",
       " 'article',\n",
       " 'establishing',\n",
       " 'the',\n",
       " 'executive',\n",
       " 'department',\n",
       " 'it',\n",
       " 'is',\n",
       " 'made',\n",
       " 'the',\n",
       " 'duty',\n",
       " 'of',\n",
       " 'the',\n",
       " 'President',\n",
       " '``',\n",
       " 'to',\n",
       " 'recommend',\n",
       " 'to',\n",
       " 'your',\n",
       " 'consideration',\n",
       " 'such',\n",
       " 'measures',\n",
       " 'as',\n",
       " 'he',\n",
       " 'shall',\n",
       " 'judge',\n",
       " 'necessary',\n",
       " 'and',\n",
       " 'expedient',\n",
       " '.',\n",
       " \"''\",\n",
       " 'The',\n",
       " 'circumstances',\n",
       " 'under',\n",
       " 'which',\n",
       " 'I',\n",
       " 'now',\n",
       " 'meet',\n",
       " 'you',\n",
       " 'will',\n",
       " 'acquit',\n",
       " 'me',\n",
       " 'from',\n",
       " 'entering',\n",
       " 'into',\n",
       " 'that',\n",
       " 'subject',\n",
       " 'further',\n",
       " 'than',\n",
       " 'to',\n",
       " 'refer',\n",
       " 'to',\n",
       " 'the',\n",
       " 'great',\n",
       " 'constitutional',\n",
       " 'charter',\n",
       " 'under',\n",
       " 'which',\n",
       " 'you',\n",
       " 'are',\n",
       " 'assembled',\n",
       " ',',\n",
       " 'and',\n",
       " 'which',\n",
       " ',',\n",
       " 'in',\n",
       " 'defining',\n",
       " 'your',\n",
       " 'powers',\n",
       " ',',\n",
       " 'designates',\n",
       " 'the',\n",
       " 'objects',\n",
       " 'to',\n",
       " 'which',\n",
       " 'your',\n",
       " 'attention',\n",
       " 'is',\n",
       " 'to',\n",
       " 'be',\n",
       " 'given',\n",
       " '.',\n",
       " 'It',\n",
       " 'will',\n",
       " 'be',\n",
       " 'more',\n",
       " 'consistent',\n",
       " 'with',\n",
       " 'those',\n",
       " 'circumstances',\n",
       " ',',\n",
       " 'and',\n",
       " 'far',\n",
       " 'more',\n",
       " 'congenial',\n",
       " 'with',\n",
       " 'the',\n",
       " 'feelings',\n",
       " 'which',\n",
       " 'actuate',\n",
       " 'me',\n",
       " ',',\n",
       " 'to',\n",
       " 'substitute',\n",
       " ',',\n",
       " 'in',\n",
       " 'place',\n",
       " 'of',\n",
       " 'a',\n",
       " 'recommendation',\n",
       " 'of',\n",
       " 'particular',\n",
       " 'measures',\n",
       " ',',\n",
       " 'the',\n",
       " 'tribute',\n",
       " 'that',\n",
       " 'is',\n",
       " 'due',\n",
       " 'to',\n",
       " 'the',\n",
       " 'talents',\n",
       " ',',\n",
       " 'the',\n",
       " 'rectitude',\n",
       " ',',\n",
       " 'and',\n",
       " 'the',\n",
       " 'patriotism',\n",
       " 'which',\n",
       " 'adorn',\n",
       " 'the',\n",
       " 'characters',\n",
       " 'selected',\n",
       " 'to',\n",
       " 'devise',\n",
       " 'and',\n",
       " 'adopt',\n",
       " 'them',\n",
       " '.',\n",
       " 'In',\n",
       " 'these',\n",
       " 'honorable',\n",
       " 'qualifications',\n",
       " 'I',\n",
       " 'behold',\n",
       " 'the',\n",
       " 'surest',\n",
       " 'pledges',\n",
       " 'that',\n",
       " 'as',\n",
       " 'on',\n",
       " 'one',\n",
       " 'side',\n",
       " 'no',\n",
       " 'local',\n",
       " 'prejudices',\n",
       " 'or',\n",
       " 'attachments',\n",
       " ',',\n",
       " 'no',\n",
       " 'separate',\n",
       " 'views',\n",
       " 'nor',\n",
       " 'party',\n",
       " 'animosities',\n",
       " ',',\n",
       " 'will',\n",
       " 'misdirect',\n",
       " 'the',\n",
       " 'comprehensive',\n",
       " 'and',\n",
       " 'equal',\n",
       " 'eye',\n",
       " 'which',\n",
       " 'ought',\n",
       " 'to',\n",
       " 'watch',\n",
       " 'over',\n",
       " 'this',\n",
       " 'great',\n",
       " 'assemblage',\n",
       " 'of',\n",
       " 'communities',\n",
       " 'and',\n",
       " 'interests',\n",
       " ',',\n",
       " 'so',\n",
       " ',',\n",
       " 'on',\n",
       " 'another',\n",
       " ',',\n",
       " 'that',\n",
       " 'the',\n",
       " 'foundation',\n",
       " 'of',\n",
       " 'our',\n",
       " 'national',\n",
       " 'policy',\n",
       " 'will',\n",
       " 'be',\n",
       " 'laid',\n",
       " 'in',\n",
       " 'the',\n",
       " 'pure',\n",
       " 'and',\n",
       " 'immutable',\n",
       " 'principles',\n",
       " 'of',\n",
       " 'private',\n",
       " 'morality',\n",
       " ',',\n",
       " 'and',\n",
       " 'the',\n",
       " 'preeminence',\n",
       " 'of',\n",
       " 'free',\n",
       " 'government',\n",
       " 'be',\n",
       " 'exemplified',\n",
       " 'by',\n",
       " 'all',\n",
       " 'the',\n",
       " 'attributes',\n",
       " 'which',\n",
       " 'can',\n",
       " 'win',\n",
       " 'the',\n",
       " 'affections',\n",
       " 'of',\n",
       " 'its',\n",
       " 'citizens',\n",
       " 'and',\n",
       " 'command',\n",
       " 'the',\n",
       " 'respect',\n",
       " 'of',\n",
       " 'the',\n",
       " 'world',\n",
       " '.',\n",
       " 'I',\n",
       " 'dwell',\n",
       " 'on',\n",
       " 'this',\n",
       " 'prospect',\n",
       " 'with',\n",
       " 'every',\n",
       " 'satisfaction',\n",
       " 'which',\n",
       " 'an',\n",
       " 'ardent',\n",
       " 'love',\n",
       " 'for',\n",
       " 'my',\n",
       " 'country',\n",
       " 'can',\n",
       " 'inspire',\n",
       " ',',\n",
       " 'since',\n",
       " 'there',\n",
       " 'is',\n",
       " 'no',\n",
       " 'truth',\n",
       " 'more',\n",
       " 'thoroughly',\n",
       " 'established',\n",
       " 'than',\n",
       " 'that',\n",
       " 'there',\n",
       " 'exists',\n",
       " 'in',\n",
       " 'the',\n",
       " 'economy',\n",
       " 'and',\n",
       " 'course',\n",
       " 'of',\n",
       " 'nature',\n",
       " 'an',\n",
       " 'indissoluble',\n",
       " 'union',\n",
       " 'between',\n",
       " 'virtue',\n",
       " 'and',\n",
       " 'happiness',\n",
       " ';',\n",
       " 'between',\n",
       " 'duty',\n",
       " 'and',\n",
       " 'advantage',\n",
       " ';',\n",
       " 'between',\n",
       " 'the',\n",
       " 'genuine',\n",
       " 'maxims',\n",
       " 'of',\n",
       " 'an',\n",
       " 'honest',\n",
       " 'and',\n",
       " 'magnanimous',\n",
       " 'policy',\n",
       " 'and',\n",
       " 'the',\n",
       " 'solid',\n",
       " 'rewards',\n",
       " 'of',\n",
       " 'public',\n",
       " 'prosperity',\n",
       " 'and',\n",
       " 'felicity',\n",
       " ';',\n",
       " 'since',\n",
       " 'we',\n",
       " 'ought',\n",
       " 'to',\n",
       " 'be',\n",
       " 'no',\n",
       " 'less',\n",
       " 'persuaded',\n",
       " 'that',\n",
       " ...]"
      ]
     },
     "execution_count": 100,
     "metadata": {},
     "output_type": "execute_result"
    }
   ],
   "source": [
    "nltk.word_tokenize(wtxt)"
   ]
  },
  {
   "cell_type": "markdown",
   "metadata": {},
   "source": [
    "Running the function outputs the result directly. If we want to do something with the result, we need to assign it to a variable."
   ]
  },
  {
   "cell_type": "code",
   "execution_count": 103,
   "metadata": {
    "collapsed": false
   },
   "outputs": [
    {
     "data": {
      "text/plain": [
       "1537"
      ]
     },
     "execution_count": 103,
     "metadata": {},
     "output_type": "execute_result"
    }
   ],
   "source": [
    "wtokens = nltk.word_tokenize(wtxt)\n",
    "len(wtokens)     # Number of words in text"
   ]
  },
  {
   "cell_type": "markdown",
   "metadata": {},
   "source": [
    "We can create a frequency dictionary from the text and then retrieve the frequency of any word"
   ]
  },
  {
   "cell_type": "code",
   "execution_count": 105,
   "metadata": {
    "collapsed": false
   },
   "outputs": [
    {
     "data": {
      "text/plain": [
       "4"
      ]
     },
     "execution_count": 105,
     "metadata": {},
     "output_type": "execute_result"
    }
   ],
   "source": [
    "wfreq = nltk.FreqDist(wtokens)\n",
    "wfreq['citizens']"
   ]
  },
  {
   "cell_type": "code",
   "execution_count": 107,
   "metadata": {
    "collapsed": false
   },
   "outputs": [
    {
     "data": {
      "text/plain": [
       "1"
      ]
     },
     "execution_count": 107,
     "metadata": {},
     "output_type": "execute_result"
    }
   ],
   "source": [
    "wfreq['we']"
   ]
  },
  {
   "cell_type": "code",
   "execution_count": 108,
   "metadata": {
    "collapsed": false
   },
   "outputs": [
    {
     "data": {
      "text/plain": [
       "626"
      ]
     },
     "execution_count": 108,
     "metadata": {},
     "output_type": "execute_result"
    }
   ],
   "source": [
    "len(wfreq)      # Number of unique words in text"
   ]
  },
  {
   "cell_type": "code",
   "execution_count": 109,
   "metadata": {
    "collapsed": false
   },
   "outputs": [
    {
     "data": {
      "text/plain": [
       "[('the', 115),\n",
       " ('of', 71),\n",
       " (',', 70),\n",
       " ('and', 48),\n",
       " ('to', 47),\n",
       " ('which', 36),\n",
       " ('in', 28),\n",
       " ('I', 23),\n",
       " ('be', 23),\n",
       " ('.', 23),\n",
       " ('my', 22),\n",
       " ('by', 19),\n",
       " ('that', 18),\n",
       " ('with', 17),\n",
       " ('as', 14),\n",
       " ('a', 14),\n",
       " ('on', 13),\n",
       " ('for', 12),\n",
       " ('have', 12),\n",
       " ('an', 10),\n",
       " ('will', 10),\n",
       " ('this', 10),\n",
       " ('your', 9),\n",
       " ('it', 9),\n",
       " ('can', 9),\n",
       " ('more', 8),\n",
       " ('every', 8),\n",
       " (';', 8),\n",
       " ('me', 8),\n",
       " ('been', 7),\n",
       " ('is', 7),\n",
       " ('no', 7),\n",
       " ('public', 6),\n",
       " ('than', 6),\n",
       " ('may', 6),\n",
       " ('from', 6),\n",
       " ('government', 6),\n",
       " ('or', 5),\n",
       " ('present', 5),\n",
       " ('under', 5)]"
      ]
     },
     "execution_count": 109,
     "metadata": {},
     "output_type": "execute_result"
    }
   ],
   "source": [
    "wfreq.most_common(40)     # 40 most common words (in descending order)"
   ]
  },
  {
   "cell_type": "markdown",
   "metadata": {},
   "source": [
    "We can plot the word frequency with the `.plot()` method. The X axis is the words in descending order of frequency and the Y axis is the frequency."
   ]
  },
  {
   "cell_type": "code",
   "execution_count": 111,
   "metadata": {
    "collapsed": false
   },
   "outputs": [
    {
     "data": {
      "image/png": "[encoded data removed]",
      "text/plain": [
       "<matplotlib.figure.Figure at 0x1133b8c50>"
      ]
     },
     "metadata": {},
     "output_type": "display_data"
    }
   ],
   "source": [
    "wfreq.plot()"
   ]
  },
  {
   "cell_type": "markdown",
   "metadata": {},
   "source": [
    "## Average sentence length, frequency of long words"
   ]
  },
  {
   "cell_type": "code",
   "execution_count": 76,
   "metadata": {
    "collapsed": false
   },
   "outputs": [
    {
     "name": "stdout",
     "output_type": "stream",
     "text": [
      "23\n"
     ]
    }
   ],
   "source": [
    "sentcount = wfreq['.'] + wfreq['?'] + wfreq['!']  # Assuming every sentence ends with ., ?, or !\n",
    "print(sentcount)"
   ]
  },
  {
   "cell_type": "markdown",
   "metadata": {},
   "source": [
    "Or we can let the NLTK `sent_tokenize()` function do it for us:"
   ]
  },
  {
   "cell_type": "code",
   "execution_count": 117,
   "metadata": {
    "collapsed": false
   },
   "outputs": [
    {
     "name": "stdout",
     "output_type": "stream",
     "text": [
      "23\n"
     ]
    }
   ],
   "source": [
    "sentcount = len(nltk.sent_tokenize(wtxt))\n",
    "print(sentcount)"
   ]
  },
  {
   "cell_type": "code",
   "execution_count": 118,
   "metadata": {
    "collapsed": false
   },
   "outputs": [
    {
     "data": {
      "text/plain": [
       "1429"
      ]
     },
     "execution_count": 118,
     "metadata": {},
     "output_type": "execute_result"
    }
   ],
   "source": [
    "wtokens_nosym = [t for t in wtokens if t.isalnum()] # keep only alphanumeric words, not punctuation\n",
    "len(wtokens_nosym)"
   ]
  },
  {
   "cell_type": "code",
   "execution_count": 119,
   "metadata": {
    "collapsed": false
   },
   "outputs": [
    {
     "data": {
      "text/plain": [
       "62.130434782608695"
      ]
     },
     "execution_count": 119,
     "metadata": {},
     "output_type": "execute_result"
    }
   ],
   "source": [
    "len(wtokens_nosym)/sentcount     # Average sentence length in number of words"
   ]
  },
  {
   "cell_type": "code",
   "execution_count": 120,
   "metadata": {
    "collapsed": false
   },
   "outputs": [
    {
     "data": {
      "text/plain": [
       "['advantageously',\n",
       " 'administration',\n",
       " 'comprehensive',\n",
       " 'consultations',\n",
       " 'Representatives',\n",
       " 'recommendation',\n",
       " 'indispensably',\n",
       " 'interruptions',\n",
       " 'circumstances',\n",
       " 'distinguished',\n",
       " 'recommendations',\n",
       " 'supplications',\n",
       " 'constitutional',\n",
       " 'qualifications',\n",
       " 'Fellow-Citizens',\n",
       " 'characteristic',\n",
       " 'consideration',\n",
       " 'disinclination',\n",
       " 'opportunities',\n",
       " 'deliberations']"
      ]
     },
     "execution_count": 120,
     "metadata": {},
     "output_type": "execute_result"
    }
   ],
   "source": [
    "[w for w in wfreq if len(w) >= 13]       # all 13+ character words"
   ]
  },
  {
   "cell_type": "code",
   "execution_count": 121,
   "metadata": {
    "collapsed": false
   },
   "outputs": [
    {
     "name": "stdout",
     "output_type": "stream",
     "text": [
      "advantageously 14 1\n",
      "administration 14 2\n",
      "comprehensive 13 1\n",
      "consultations 13 1\n",
      "Representatives 15 2\n",
      "recommendation 14 1\n",
      "indispensably 13 1\n",
      "interruptions 13 1\n",
      "circumstances 13 2\n",
      "distinguished 13 1\n",
      "recommendations 15 1\n",
      "supplications 13 1\n",
      "constitutional 14 1\n",
      "qualifications 14 2\n",
      "Fellow-Citizens 15 1\n",
      "characteristic 14 1\n",
      "consideration 13 1\n",
      "disinclination 14 1\n",
      "opportunities 13 2\n",
      "deliberations 13 2\n"
     ]
    }
   ],
   "source": [
    "long = [w for w in wfreq if len(w) >= 13] \n",
    "for w in long :\n",
    "    print(w, len(w), wfreq[w])               # long words tend to be less frequent than short ones"
   ]
  },
  {
   "cell_type": "markdown",
   "metadata": {},
   "source": [
    "## Your turn: process the 2009-Obama.txt file. "
   ]
  },
  {
   "cell_type": "markdown",
   "metadata": {},
   "source": [
    "## What next?\n",
    "Take a Python course! \n",
    "- CS 0008 [\"Introduction to Computer Programming with Python\"](http://cs.pitt.edu/schedule/courses/0008)\n",
    "- CS 0155 [\"Data Witchcraft\"](http://db.cs.pitt.edu/group/teaching/data-witchcraft)\n",
    "- LING 1330/2330 [\"Introduction to Computational Linguistics\"](http://www.pitt.edu/~naraehan/ling1330) (linguistics students)\n",
    "- And many MOOC courses: [Coursera](http://www.coursera.org), [EdX](https://www.edx.org/)"
   ]
  }
 ],
 "metadata": {
  "kernelspec": {
   "display_name": "Python [default]",
   "language": "python",
   "name": "python3"
  },
  "language_info": {
   "codemirror_mode": {
    "name": "ipython",
    "version": 3
   },
   "file_extension": ".py",
   "mimetype": "text/x-python",
   "name": "python",
   "nbconvert_exporter": "python",
   "pygments_lexer": "ipython3",
   "version": "3.5.2"
  }
 },
 "nbformat": 4,
 "nbformat_minor": 0
}
