{
 "cells": [
  {
   "cell_type": "code",
   "execution_count": 3,
   "metadata": {
    "collapsed": false
   },
   "outputs": [
    {
     "name": "stdout",
     "output_type": "stream",
     "text": [
      "0.9370629370629371\n",
      "[('do', 2), ('everyone', 2), ('together', 2), ('your', 2), ('a', 2), ('their', 2), ('this', 2), ('we', 2), ('today', 2), ('our', 2), ('and', 2), ('in', 2), ('there', 2), ('capital', 2), ('that', 2), ('no', 2), ('now', 2), ('people', 2), ('first', 2), ('when', 2)]\n"
     ]
    }
   ],
   "source": [
    "import nltk\n",
    "myfile = '/Users/djb/Desktop/inaugural/2017-Trump.txt'  # Mac users must leave out C:\n",
    "trump = open(myfile).read()\n",
    "trump_word_tokens = nltk.word_tokenize(trump)\n",
    "trump_words = [word.lower() for word in nltk.FreqDist(trump_word_tokens) if word.isalnum()] # keep only real words\n",
    "trump_freq = nltk.FreqDist(trump_words)\n",
    "types = len(trump_freq)\n",
    "tokens = len(trump_words)\n",
    "ratio = types / tokens\n",
    "print(ratio)\n",
    "print(trump_freq.most_common(20))"
   ]
  },
  {
   "cell_type": "code",
   "execution_count": null,
   "metadata": {
    "collapsed": true
   },
   "outputs": [],
   "source": []
  }
 ],
 "metadata": {
  "kernelspec": {
   "display_name": "Python [conda root]",
   "language": "python",
   "name": "conda-root-py"
  },
  "language_info": {
   "codemirror_mode": {
    "name": "ipython",
    "version": 3
   },
   "file_extension": ".py",
   "mimetype": "text/x-python",
   "name": "python",
   "nbconvert_exporter": "python",
   "pygments_lexer": "ipython3",
   "version": "3.5.2"
  }
 },
 "nbformat": 4,
 "nbformat_minor": 2
}
